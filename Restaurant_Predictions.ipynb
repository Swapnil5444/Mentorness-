{
  "nbformat": 4,
  "nbformat_minor": 0,
  "metadata": {
    "colab": {
      "provenance": []
    },
    "kernelspec": {
      "name": "python3",
      "display_name": "Python 3"
    },
    "language_info": {
      "name": "python"
    }
  },
  "cells": [
    {
      "cell_type": "markdown",
      "source": [
        "Import all necessary libraries"
      ],
      "metadata": {
        "id": "YV80q0qJa6xM"
      }
    },
    {
      "cell_type": "code",
      "execution_count": 1,
      "metadata": {
        "id": "kK5UFaATWfPn"
      },
      "outputs": [],
      "source": [
        "import pandas as pd\n",
        "from sklearn.model_selection import train_test_split\n",
        "from sklearn.preprocessing import LabelEncoder, StandardScaler\n",
        "from sklearn.ensemble import RandomForestRegressor\n",
        "from sklearn.metrics import mean_squared_error, r2_score\n",
        "import matplotlib.pyplot as plt\n",
        "import seaborn as sns\n"
      ]
    },
    {
      "cell_type": "markdown",
      "source": [
        "Loading the dataset"
      ],
      "metadata": {
        "id": "XwOfQavcbA2j"
      }
    },
    {
      "cell_type": "code",
      "source": [
        "df = pd.read_csv('Dataset.csv')"
      ],
      "metadata": {
        "id": "ahtea6x-Xddq"
      },
      "execution_count": 2,
      "outputs": []
    },
    {
      "cell_type": "markdown",
      "source": [
        "Check for missing values"
      ],
      "metadata": {
        "id": "vlHOlP1da14g"
      }
    },
    {
      "cell_type": "code",
      "source": [
        "print(df.isnull().sum())"
      ],
      "metadata": {
        "colab": {
          "base_uri": "https://localhost:8080/"
        },
        "id": "iOUpAtKoXjv3",
        "outputId": "3e9c3f85-2914-46e9-daa8-208123b2485c"
      },
      "execution_count": 3,
      "outputs": [
        {
          "output_type": "stream",
          "name": "stdout",
          "text": [
            "Restaurant ID           0\n",
            "Restaurant Name         0\n",
            "Country Code            0\n",
            "City                    0\n",
            "Address                 0\n",
            "Locality                0\n",
            "Locality Verbose        0\n",
            "Longitude               0\n",
            "Latitude                0\n",
            "Cuisines                9\n",
            "Average Cost for two    0\n",
            "Currency                0\n",
            "Has Table booking       0\n",
            "Has Online delivery     0\n",
            "Is delivering now       0\n",
            "Switch to order menu    0\n",
            "Price range             0\n",
            "Aggregate rating        0\n",
            "Rating color            0\n",
            "Rating text             0\n",
            "Votes                   0\n",
            "dtype: int64\n"
          ]
        }
      ]
    },
    {
      "cell_type": "markdown",
      "source": [
        "Convert categorical columns to numeric"
      ],
      "metadata": {
        "id": "2pD7OK9gbVm9"
      }
    },
    {
      "cell_type": "code",
      "source": [
        "label_encoders = {}\n",
        "for column in ['Country Code', 'City', 'Address', 'Locality', 'Locality Verbose', 'Cuisines', 'Currency', 'Rating color', 'Rating text']:\n",
        "    le = LabelEncoder()\n",
        "    df[column] = le.fit_transform(df[column])\n",
        "    label_encoders[column] = le"
      ],
      "metadata": {
        "id": "HeP3ni7rXj1r"
      },
      "execution_count": 5,
      "outputs": []
    },
    {
      "cell_type": "markdown",
      "source": [
        "Select features and target"
      ],
      "metadata": {
        "id": "mDTiVp6dbaiL"
      }
    },
    {
      "cell_type": "code",
      "source": [
        "X = df.drop(['Restaurant ID', 'Restaurant Name', 'Aggregate rating'], axis=1)\n",
        "y = df['Aggregate rating']"
      ],
      "metadata": {
        "id": "JSpa1jv8Xj5C"
      },
      "execution_count": 6,
      "outputs": []
    },
    {
      "cell_type": "markdown",
      "source": [
        "Split the data into training and testing sets"
      ],
      "metadata": {
        "id": "2vZxci35bcm5"
      }
    },
    {
      "cell_type": "code",
      "source": [
        "X_train, X_test, y_train, y_test = train_test_split(X, y, test_size=0.2, random_state=42)"
      ],
      "metadata": {
        "id": "957zLQWLXxRR"
      },
      "execution_count": 7,
      "outputs": []
    },
    {
      "cell_type": "markdown",
      "source": [],
      "metadata": {
        "id": "hcQnaurcbpuW"
      }
    },
    {
      "cell_type": "code",
      "source": [
        "# Check for remaining missing values\n",
        "print(X_train.isnull().sum())\n",
        "\n",
        "# Identify columns with non-numerical data\n",
        "for col in X_train.columns:\n",
        "    if X_train[col].dtype == 'object':\n",
        "        print(f\"Column '{col}' contains non-numerical data.\")\n",
        "        print(X_train[col].unique()) # Inspect unique values in the problematic column(s)\n",
        "\n",
        "# If missing values are present, handle them (e.g., imputation or further dropping)\n",
        "# If there are columns with non-numerical data that should be numerical,\n",
        "# investigate why they weren't label encoded and apply encoding as needed."
      ],
      "metadata": {
        "colab": {
          "base_uri": "https://localhost:8080/"
        },
        "id": "h28fmUTDY4fo",
        "outputId": "878fd9cf-47f5-4216-8cd9-f83983fab50f"
      },
      "execution_count": 14,
      "outputs": [
        {
          "output_type": "stream",
          "name": "stdout",
          "text": [
            "Country Code            0\n",
            "City                    0\n",
            "Address                 0\n",
            "Locality                0\n",
            "Locality Verbose        0\n",
            "Longitude               0\n",
            "Latitude                0\n",
            "Cuisines                0\n",
            "Average Cost for two    0\n",
            "Currency                0\n",
            "Has Table booking       0\n",
            "Has Online delivery     0\n",
            "Is delivering now       0\n",
            "Switch to order menu    0\n",
            "Price range             0\n",
            "Rating color            0\n",
            "Rating text             0\n",
            "Votes                   0\n",
            "dtype: int64\n",
            "Column 'Has Table booking' contains non-numerical data.\n",
            "['No' 'Yes']\n",
            "Column 'Has Online delivery' contains non-numerical data.\n",
            "['No' 'Yes']\n",
            "Column 'Is delivering now' contains non-numerical data.\n",
            "['No' 'Yes']\n",
            "Column 'Switch to order menu' contains non-numerical data.\n",
            "['No']\n"
          ]
        }
      ]
    },
    {
      "cell_type": "markdown",
      "source": [
        "Initialize the model"
      ],
      "metadata": {
        "id": "csSJ5NyKbu0m"
      }
    },
    {
      "cell_type": "code",
      "source": [
        "model = RandomForestRegressor(random_state=42)"
      ],
      "metadata": {
        "id": "1XzFavvPXxXM"
      },
      "execution_count": 9,
      "outputs": []
    },
    {
      "cell_type": "code",
      "source": [
        "# Handle non-numerical data (example using LabelEncoder)\n",
        "from sklearn.preprocessing import LabelEncoder\n",
        "label_encoders = {}\n",
        "for col in X_train.columns:\n",
        "    if X_train[col].dtype == 'object':\n",
        "        le = LabelEncoder()\n",
        "        X_train[col] = le.fit_transform(X_train[col])\n",
        "        label_encoders[col] = le # Store the encoder for later use on the test set\n",
        "\n",
        "# Apply the same encoding to the test set\n",
        "for col in X_test.columns:\n",
        "    if col in label_encoders:\n",
        "        le = label_encoders[col]\n",
        "        X_test[col] = le.transform(X_test[col])\n",
        "\n",
        "# Now you can fit the model\n",
        "model.fit(X_train, y_train)"
      ],
      "metadata": {
        "colab": {
          "base_uri": "https://localhost:8080/",
          "height": 74
        },
        "id": "Y9CuSnuhXxZl",
        "outputId": "c28d8b9b-b88a-43d2-96ef-1f2bf94523a6"
      },
      "execution_count": 16,
      "outputs": [
        {
          "output_type": "execute_result",
          "data": {
            "text/plain": [
              "RandomForestRegressor(random_state=42)"
            ],
            "text/html": [
              "<style>#sk-container-id-1 {color: black;}#sk-container-id-1 pre{padding: 0;}#sk-container-id-1 div.sk-toggleable {background-color: white;}#sk-container-id-1 label.sk-toggleable__label {cursor: pointer;display: block;width: 100%;margin-bottom: 0;padding: 0.3em;box-sizing: border-box;text-align: center;}#sk-container-id-1 label.sk-toggleable__label-arrow:before {content: \"▸\";float: left;margin-right: 0.25em;color: #696969;}#sk-container-id-1 label.sk-toggleable__label-arrow:hover:before {color: black;}#sk-container-id-1 div.sk-estimator:hover label.sk-toggleable__label-arrow:before {color: black;}#sk-container-id-1 div.sk-toggleable__content {max-height: 0;max-width: 0;overflow: hidden;text-align: left;background-color: #f0f8ff;}#sk-container-id-1 div.sk-toggleable__content pre {margin: 0.2em;color: black;border-radius: 0.25em;background-color: #f0f8ff;}#sk-container-id-1 input.sk-toggleable__control:checked~div.sk-toggleable__content {max-height: 200px;max-width: 100%;overflow: auto;}#sk-container-id-1 input.sk-toggleable__control:checked~label.sk-toggleable__label-arrow:before {content: \"▾\";}#sk-container-id-1 div.sk-estimator input.sk-toggleable__control:checked~label.sk-toggleable__label {background-color: #d4ebff;}#sk-container-id-1 div.sk-label input.sk-toggleable__control:checked~label.sk-toggleable__label {background-color: #d4ebff;}#sk-container-id-1 input.sk-hidden--visually {border: 0;clip: rect(1px 1px 1px 1px);clip: rect(1px, 1px, 1px, 1px);height: 1px;margin: -1px;overflow: hidden;padding: 0;position: absolute;width: 1px;}#sk-container-id-1 div.sk-estimator {font-family: monospace;background-color: #f0f8ff;border: 1px dotted black;border-radius: 0.25em;box-sizing: border-box;margin-bottom: 0.5em;}#sk-container-id-1 div.sk-estimator:hover {background-color: #d4ebff;}#sk-container-id-1 div.sk-parallel-item::after {content: \"\";width: 100%;border-bottom: 1px solid gray;flex-grow: 1;}#sk-container-id-1 div.sk-label:hover label.sk-toggleable__label {background-color: #d4ebff;}#sk-container-id-1 div.sk-serial::before {content: \"\";position: absolute;border-left: 1px solid gray;box-sizing: border-box;top: 0;bottom: 0;left: 50%;z-index: 0;}#sk-container-id-1 div.sk-serial {display: flex;flex-direction: column;align-items: center;background-color: white;padding-right: 0.2em;padding-left: 0.2em;position: relative;}#sk-container-id-1 div.sk-item {position: relative;z-index: 1;}#sk-container-id-1 div.sk-parallel {display: flex;align-items: stretch;justify-content: center;background-color: white;position: relative;}#sk-container-id-1 div.sk-item::before, #sk-container-id-1 div.sk-parallel-item::before {content: \"\";position: absolute;border-left: 1px solid gray;box-sizing: border-box;top: 0;bottom: 0;left: 50%;z-index: -1;}#sk-container-id-1 div.sk-parallel-item {display: flex;flex-direction: column;z-index: 1;position: relative;background-color: white;}#sk-container-id-1 div.sk-parallel-item:first-child::after {align-self: flex-end;width: 50%;}#sk-container-id-1 div.sk-parallel-item:last-child::after {align-self: flex-start;width: 50%;}#sk-container-id-1 div.sk-parallel-item:only-child::after {width: 0;}#sk-container-id-1 div.sk-dashed-wrapped {border: 1px dashed gray;margin: 0 0.4em 0.5em 0.4em;box-sizing: border-box;padding-bottom: 0.4em;background-color: white;}#sk-container-id-1 div.sk-label label {font-family: monospace;font-weight: bold;display: inline-block;line-height: 1.2em;}#sk-container-id-1 div.sk-label-container {text-align: center;}#sk-container-id-1 div.sk-container {/* jupyter's `normalize.less` sets `[hidden] { display: none; }` but bootstrap.min.css set `[hidden] { display: none !important; }` so we also need the `!important` here to be able to override the default hidden behavior on the sphinx rendered scikit-learn.org. See: https://github.com/scikit-learn/scikit-learn/issues/21755 */display: inline-block !important;position: relative;}#sk-container-id-1 div.sk-text-repr-fallback {display: none;}</style><div id=\"sk-container-id-1\" class=\"sk-top-container\"><div class=\"sk-text-repr-fallback\"><pre>RandomForestRegressor(random_state=42)</pre><b>In a Jupyter environment, please rerun this cell to show the HTML representation or trust the notebook. <br />On GitHub, the HTML representation is unable to render, please try loading this page with nbviewer.org.</b></div><div class=\"sk-container\" hidden><div class=\"sk-item\"><div class=\"sk-estimator sk-toggleable\"><input class=\"sk-toggleable__control sk-hidden--visually\" id=\"sk-estimator-id-1\" type=\"checkbox\" checked><label for=\"sk-estimator-id-1\" class=\"sk-toggleable__label sk-toggleable__label-arrow\">RandomForestRegressor</label><div class=\"sk-toggleable__content\"><pre>RandomForestRegressor(random_state=42)</pre></div></div></div></div></div>"
            ]
          },
          "metadata": {},
          "execution_count": 16
        }
      ]
    },
    {
      "cell_type": "markdown",
      "source": [
        "Make predictions"
      ],
      "metadata": {
        "id": "iieeBbgUby91"
      }
    },
    {
      "cell_type": "code",
      "source": [
        "y_pred = model.predict(X_test)"
      ],
      "metadata": {
        "id": "67j5_0KzXxcf"
      },
      "execution_count": 17,
      "outputs": []
    },
    {
      "cell_type": "markdown",
      "source": [
        "Evaluate the models\n"
      ],
      "metadata": {
        "id": "47x0KSwcb4f_"
      }
    },
    {
      "cell_type": "code",
      "source": [
        "print(\"Mean Squared Error:\", mean_squared_error(y_test, y_pred))\n",
        "print(\"R-squared:\", r2_score(y_test, y_pred))"
      ],
      "metadata": {
        "colab": {
          "base_uri": "https://localhost:8080/"
        },
        "id": "DxH0O5M8Xxf0",
        "outputId": "8330fbb7-8023-49ce-a9fe-3dbe3daf5a51"
      },
      "execution_count": 18,
      "outputs": [
        {
          "output_type": "stream",
          "name": "stdout",
          "text": [
            "Mean Squared Error: 0.029268875851231006\n",
            "R-squared: 0.9872190112275845\n"
          ]
        }
      ]
    }
  ]
}